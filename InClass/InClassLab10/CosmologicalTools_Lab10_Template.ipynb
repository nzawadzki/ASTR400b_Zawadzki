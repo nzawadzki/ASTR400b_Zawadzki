{
 "cells": [
  {
   "cell_type": "code",
   "execution_count": 1,
   "metadata": {
    "collapsed": true
   },
   "outputs": [],
   "source": [
    "# In Class Lab 10 \n",
    "# Adding to Cosmological Tools from Lab 9"
   ]
  },
  {
   "cell_type": "code",
   "execution_count": 2,
   "metadata": {
    "collapsed": true
   },
   "outputs": [],
   "source": [
    "# import modules\n",
    "import numpy as np\n",
    "import astropy.units as u\n",
    "from astropy.constants import G\n",
    "\n",
    "# Lab 10 : added\n",
    "# integrating tools from SciPy  \n",
    "from scipy.integrate import simps\n",
    "\n",
    "# import plotting modules\n",
    "import matplotlib.pyplot as plt\n",
    "import matplotlib\n",
    "%matplotlib inline"
   ]
  },
  {
   "cell_type": "code",
   "execution_count": 3,
   "metadata": {
    "collapsed": true
   },
   "outputs": [],
   "source": [
    "# Define the benchmark cosmology at z=0\n",
    "# Planck 2015 results. XIII. Cosmological parameters   \n",
    "# Planck Collaboration+2016 A&A 594 13  Table 4, column 2 \n",
    "\n",
    "OmegaM = 0.308   # Matter Density Parameter\n",
    "OmegaR = 8.24e-5  # Radiation Density Parameter\n",
    "OmegaL = 0.692  # Dark Energy Density Parameter\n",
    "h = 0.6781   # Hubble Constant  100 h km/s/Mpc\n",
    "        "
   ]
  },
  {
   "cell_type": "code",
   "execution_count": 4,
   "metadata": {
    "collapsed": true
   },
   "outputs": [],
   "source": [
    "# Define the Einstein De Sitter cosmology at z=0\n",
    "# Matter Dominates\n",
    "OmegaMD = 1   # Matter Density Parameter\n",
    "OmegaRD = 0  # Radiation Density Parameter\n",
    "OmegaLD = 0  # Dark Energy Density Parameter\n"
   ]
  },
  {
   "cell_type": "code",
   "execution_count": 23,
   "metadata": {
    "collapsed": true
   },
   "outputs": [],
   "source": [
    "class CosmologicalTools:\n",
    "    # Define a class that provides functions to compute various cosmological quantities\n",
    "    # for a given cosmology  \n",
    "        \n",
    "    def __init__(self, OmegaM, OmegaR, OmegaL, h):\n",
    "        # initialize the instance of the class - for any given Cosmology\n",
    "        # Input:    Omega M matter density parameter\n",
    "        #           Omega R radiation density parameter\n",
    "        #           Omega L  dark energy density parameter\n",
    "        #           h  normalization for the hubble parameter\n",
    "        \n",
    "        # initialize the cosmology\n",
    "        self.OmegaM = OmegaM # Matter Density Parameter\n",
    "        self.OmegaR = OmegaR  # Radiation Density Parameter\n",
    "        self.OmegaL = OmegaL  # Dark Energy Density Parameter\n",
    "        self.OmegaK = 1.0 - (OmegaM + OmegaR + OmegaL) # Curvature Density Parameter\n",
    "    \n",
    "        self.h = h   # Normalization of Hubble Parameter   \n",
    "        self.Ho = h*100*u.km/u.s/u.Mpc #  Hubble Constant at z=0  100 h km/s/Mpc\n",
    "     \n",
    "        # Lab 10 added speed of light \n",
    "        self.c =  2.99792458e5*u.km/u.s    # Speed of light in km/s\n",
    "    \n",
    "    #################\n",
    "    # Lab 9\n",
    "    #################\n",
    "    \n",
    "    def HubbleParameterZ(self, z):\n",
    "        # Function that defines the Hubble Parameter as a function of redshift\n",
    "        # Input:   Redshift z \n",
    "        # Returns: The Hubble parameter at the given redshift in units of km/s/Mpc        \n",
    "        \n",
    "        return self.Ho*np.sqrt(self.OmegaM*(1+z)**3 + self.OmegaL + self.OmegaR*(1+z)**4 + self.OmegaK*(1+z)**2)\n",
    "            \n",
    "    def OmegaM_Z(self,z):\n",
    "        # Function that defines the matter density parameter as a function of redshift\n",
    "        # Input:  Redshift z . Can be an array\n",
    "        # Output:  Matter Density Parameter at the given redshift.\n",
    "        \n",
    "        return self.OmegaM*(1+z)**3*self.Ho**2/self.HubbleParameter(z)**2\n",
    "    \n",
    "    \n",
    "    def OmegaR_Z(self,z):\n",
    "        # Function that defines the radiation density parameter as a function of redshift\n",
    "        # Input:  Redshift z . Can be an array\n",
    "        # Output:  Radiation Density Parameter at the given redshift.\n",
    "        \n",
    "        return self.OmegaR*(1+z)**4*self.Ho**2/self.HubbleParameter(z)**2\n",
    "       \n",
    "    def OmegaL_Z(self,z):\n",
    "        # Function that defines the dark energy density parameter as a function of redshift\n",
    "        # Input:  Redshift z . Can be an array\n",
    "        # Output:  Dark Energy Density Parameter at the given redshift.\n",
    "        \n",
    "        return self.OmegaL*self.Ho**2/self.HubbleParameter(z)**2\n",
    "       \n",
    "        \n",
    "        \n",
    "    ###########################\n",
    "    # Lab 10 Starts Here\n",
    "    ###########################\n",
    "    \n",
    "    \n",
    "    # Question 1 A) \n",
    "    \n",
    "    def LookBackTime(self, ze):\n",
    "    # Function that computes the look back time at a given redshift\n",
    "    # i.e. the difference in time from when a photon was emitted to when it is observed at present day.\n",
    "    # Input:    Redshift emitted (ze) \n",
    "    # Output:   Time in units of Gyr Ago  (relative to present day)    \n",
    "    \n",
    "        # Observed redshift  \n",
    "        zo = 0\n",
    "    \n",
    "        # define an array with redshifts, spaced in intervals of 0.001 from zo to ze\n",
    "        zrange = np.arange(zo, ze, 1e-3)\n",
    "\n",
    "        # FILL THIS IN \n",
    "        # Define t = 1/H(zrange)/(1+zrange)\n",
    "        # But need to correct units of 1/H to be Gyr rather than seconds  \n",
    "        # use the astropy.units functionality .to(units)\n",
    "        #H = self.HubbleParameterZ(zrange).to(u.km/u.Gyr/u.Mpc)\n",
    "        t = ((1.0/self.HubbleParameterZ(zrange)).to(u.Gyr))/(1+zrange)\n",
    "        # FILL THIS IN\n",
    "        # Integrate y numerically over zrange and return in units of Gyr\n",
    "        #  using simps(y(x),x)\n",
    "        return simps(t, zrange)\n",
    "\n",
    "    \n",
    "    \n",
    "    # Question 2 A) \n",
    "    \n",
    "    def ComovingDistance(self, ze):\n",
    "    # Function that returns the Comoving Distance DC\n",
    "    # Distance to a galaxy that is moving with the Hubble Flow (expanding universe) at a given redshift\n",
    "    # This also returns the Horizon Distance (size of observable universe) TODAY (Ro*u)\n",
    "    # Input:    Redshift emitted (ze) \n",
    "    # Output:   DC in Mpc\n",
    "    \n",
    "        # observed redshift\n",
    "        zo = 0\n",
    "    \n",
    "        # define an array with redshifts, spaced  in intervals of 0.001\n",
    "        zrange = np.arange(zo, ze, 1e-3)\n",
    "    \n",
    "        # Define comoving distance\n",
    "        # 1/H(zrange)*speed of light\n",
    "        # FILL THIS IN\n",
    "    \n",
    "        # FILL THIS IN \n",
    "        # Integrate y numerically over zrange and return in units of Mpc\n",
    "        # using  simps(y(x),x)\n",
    "        return \n",
    "    \n",
    "    \n",
    "    # Question 3 A)\n",
    "    \n",
    "    def LuminosityDistance(self, ze): \n",
    "    # Function that computes DL, the luminosity distance of a galaxy at a given redshift\n",
    "    # Distance \n",
    "    # Input:    Redshift emitted (ze) \n",
    "    # Output:   DL  in Mpc\n",
    "    \n",
    "        # FILL THIS IN\n",
    "        # Return  DL = DC*(1+z)\n",
    "        return \n",
    "    \n",
    "    \n",
    "    # Question 4 A)\n",
    "    \n",
    "    def AngularDiameterDistance(self, ze): \n",
    "    # Function that computes DA, the angular diameter distance at a given redshift\n",
    "    # Physical size of angular separation of 1 degree\n",
    "    # Input:   Redshift emitted (ze)\n",
    "    # Output:   DA  in Mpc\n",
    "        \n",
    "        # FILL THIS IN\n",
    "        # Return  DA = DC/(1+z) \n",
    "        return         \n",
    "    \n",
    "    \n",
    "    # Question 4 B) \n",
    "    \n",
    "    def Separation(self, ze, angle):\n",
    "    # Function that uses DA to compute the physical distance corresponding to an angular separation\n",
    "    # Input:    Redshift emmitted z ,  Angle between galaxies in arcsec\n",
    "    # Output:  Distance in kpc\n",
    "    \n",
    "        # convert angle from arcsec to radians\n",
    "        angleRad = (angle*u.arcsec).to(u.rad)\n",
    "\n",
    "        # FILL THIS IN \n",
    "        # Return  separation in units of kpc\n",
    "        return \n",
    "    \n",
    "    \n",
    "    "
   ]
  },
  {
   "cell_type": "code",
   "execution_count": 24,
   "metadata": {
    "collapsed": true
   },
   "outputs": [],
   "source": [
    "# Define here an instance of the Class Cosmological Tools that follows the Benchmark Cosmology\n",
    "BenchmarkObject = CosmologicalTools(OmegaM,OmegaR,OmegaL,h)"
   ]
  },
  {
   "cell_type": "code",
   "execution_count": 25,
   "metadata": {
    "collapsed": true
   },
   "outputs": [],
   "source": [
    "# Define here an instance of the Class Csomological Tools that follows the Einstein De Sitter Cosmology\n",
    "EinsteinObject = CosmologicalTools(OmegaMD,OmegaRD,OmegaLD,h)"
   ]
  },
  {
   "cell_type": "code",
   "execution_count": 31,
   "metadata": {},
   "outputs": [
    {
     "name": "stdout",
     "output_type": "stream",
     "text": [
      "13.7950297922\n"
     ]
    }
   ],
   "source": [
    "# Question 1 B) \n",
    "# What is the Age of the Universe in the Benchmark Cosmology?   (use a large z)\n",
    "BenchmarkAge = BenchmarkObject.LookBackTime(10000)\n",
    "print BenchmarkAge"
   ]
  },
  {
   "cell_type": "code",
   "execution_count": 32,
   "metadata": {},
   "outputs": [
    {
     "name": "stdout",
     "output_type": "stream",
     "text": [
      "9.61304866108\n"
     ]
    }
   ],
   "source": [
    "# What is the Age of the Universe in the Einstein De Sitter Cosmology ? (use a large z)\n",
    "EinsteinAge = EinsteinObject.LookBackTime(10000)\n",
    "print EinsteinAge"
   ]
  },
  {
   "cell_type": "markdown",
   "metadata": {},
   "source": [
    "# Which cosmology results in the younger universe?\n",
    "\n"
   ]
  },
  {
   "cell_type": "code",
   "execution_count": 28,
   "metadata": {
    "collapsed": true
   },
   "outputs": [],
   "source": [
    "# Question 1 C)   Plotting Look Back Time\n",
    "\n",
    "# First we define an array of redshift for the X axis\n",
    "# Define an array of redshift to some max redshift\n",
    "zmax = 15\n",
    "zmin = 0.001\n",
    "zrange2 = np.arange(zmin, zmax, 0.01)\n"
   ]
  },
  {
   "cell_type": "code",
   "execution_count": 42,
   "metadata": {},
   "outputs": [],
   "source": [
    "# Next we define an array of Look Back Times for the Y axis\n",
    "\n",
    "# Create a loop to compute the Look Back time at each redshift in zrange2\n",
    "\n",
    "# Array to store results for Benchmark Cosmology\n",
    "Time = np.zeros(np.size(zrange2))\n",
    "\n",
    "# Array to store results for Einstein De Sitter Cosmology\n",
    "TimeD = np.zeros(np.size(zrange2))\n",
    "\n",
    "i=0  # initialize the counter\n",
    "\n",
    "while (i < np.size(zrange2)):  # set up the while loop \n",
    "    \n",
    "    # Note that to store in an array need to remove the units: float(t/u.Gyr)\n",
    "    \n",
    "    # FILL THIS IN\n",
    "    # Update the time for the Benchmark Cosmology\n",
    "    Time[i] = float(BenchmarkObject.LookBackTime(zrange2[i]))#/u.Gyr) \n",
    "    \n",
    "    #FILL THIS IN\n",
    "    # Update the time for the De Sitter Cosmology\n",
    "    TimeD[i] = float(EinsteinObject.LookBackTime(zrange2[i]))#/u.Gyr)\n",
    "       \n",
    "    i += 1  # increase the counter"
   ]
  },
  {
   "cell_type": "code",
   "execution_count": 43,
   "metadata": {},
   "outputs": [
    {
     "data": {
      "image/png": "[encoded data removed]",
      "text/plain": [
       "<matplotlib.figure.Figure at 0x7f0ef54b9910>"
      ]
     },
     "metadata": {},
     "output_type": "display_data"
    }
   ],
   "source": [
    "\n",
    "# Plot the Look Back Time as a Function of Redshift out to z=10\n",
    "################################################################\n",
    "\n",
    "fig = plt.figure(figsize=(10,10))\n",
    "ax = plt.subplot(111)\n",
    "\n",
    "\n",
    "# Look Back Time Benchmark\n",
    "# FILL THIS IN\n",
    "plt.plot(zrange2,Time, color='blue', linewidth=5, label='Benchmark')\n",
    "\n",
    "# Look Back Time Einstein De Sitter\n",
    "# FILL THIS IN\n",
    "plt.plot(zrange2,TimeD, color='red', linewidth=5, label='DeSitter')\n",
    "\n",
    "\n",
    "# Add axis labels\n",
    "plt.xlabel('z', fontsize=22)\n",
    "plt.ylabel('Look Back Time (Gyr Ago)', fontsize=22)\n",
    "\n",
    "#set axis limits\n",
    "#plt.ylim(0,250)\n",
    "\n",
    "#adjust tick label font size\n",
    "label_size = 22\n",
    "matplotlib.rcParams['xtick.labelsize'] = label_size \n",
    "matplotlib.rcParams['ytick.labelsize'] = label_size\n",
    "\n",
    "# add a legend with some customizations.\n",
    "#legend = ax.legend(loc='lower left',fontsize='x-large')\n",
    "\n",
    "legend = ax.legend(loc='upper center', fontsize='x-large', bbox_to_anchor=(0.5, 1.05),ncol=3, fancybox=True, shadow=True)\n",
    "\n",
    "# Save to a file\n",
    "ax.set_rasterized(True)\n",
    "plt.savefig('LookBackTime.eps', rasterized=True, dpi=350)"
   ]
  },
  {
   "cell_type": "code",
   "execution_count": 2,
   "metadata": {
    "collapsed": true
   },
   "outputs": [],
   "source": [
    "# Question 2 B)\n",
    "\n",
    "# What is the size of the presently observable universe in the Benchmark cosmology ? (pick a large z)\n",
    "# this is the size assuming the present day scale factor \n"
   ]
  },
  {
   "cell_type": "code",
   "execution_count": 3,
   "metadata": {
    "collapsed": true
   },
   "outputs": [],
   "source": [
    "# What is the size of the presently observable universe in the Einstein De Sitter cosmology? (pick a large z)\n"
   ]
  },
  {
   "cell_type": "markdown",
   "metadata": {},
   "source": [
    "# Which cosmology results in a smaller universe?\n",
    "\n"
   ]
  },
  {
   "cell_type": "code",
   "execution_count": 10,
   "metadata": {
    "collapsed": true
   },
   "outputs": [],
   "source": [
    "# Question 3 B) \n",
    "\n",
    "# Luminosity distances are used to measure distances and infer redshifts for standard candles. \n",
    "\n",
    "# Consider that you observe a Type Ia Supernova with an apparent magnitude, m = 25.1\n",
    "# Absolute magnitude of a Type Ia Supernova is -19.3±0.03 \n",
    "\n",
    "# Using the Benchmark cosmology, determine this Supernova's redshift\n",
    "\n",
    "# First What is the Luminosity Distance? \n",
    "# m-M = 5*log(DL/Mpc) + 25\n",
    "\n",
    "\n"
   ]
  },
  {
   "cell_type": "code",
   "execution_count": 11,
   "metadata": {
    "collapsed": true
   },
   "outputs": [],
   "source": [
    "# Now reverse engineer the problem. What redshift gives you the right answer? \n",
    "# in reality the redshift is determined by identifying the redshift of the host.  \n"
   ]
  },
  {
   "cell_type": "code",
   "execution_count": 12,
   "metadata": {
    "collapsed": true
   },
   "outputs": [],
   "source": [
    "# What is the proper distance to this supernova? \n"
   ]
  },
  {
   "cell_type": "code",
   "execution_count": 13,
   "metadata": {
    "collapsed": true
   },
   "outputs": [],
   "source": [
    "# Question 4 C)  \n",
    "\n",
    "# Angle = Size/DA\n",
    "# What is the separation between two galaxies separated by 1 arcsec at z=1 in the Benchmark Cosmology\n",
    "\n"
   ]
  },
  {
   "cell_type": "code",
   "execution_count": 15,
   "metadata": {},
   "outputs": [
    {
     "ename": "SyntaxError",
     "evalue": "invalid syntax (<ipython-input-15-4500e8963d9c>, line 18)",
     "output_type": "error",
     "traceback": [
      "\u001b[0;36m  File \u001b[0;32m\"<ipython-input-15-4500e8963d9c>\"\u001b[0;36m, line \u001b[0;32m18\u001b[0m\n\u001b[0;31m    Comoving[i] =\u001b[0m\n\u001b[0m                   ^\u001b[0m\n\u001b[0;31mSyntaxError\u001b[0m\u001b[0;31m:\u001b[0m invalid syntax\n"
     ]
    }
   ],
   "source": [
    "# Question 5 \n",
    "\n",
    "# Plotting the all of the various distance scales \n",
    "\n",
    "# Define Arrays to store results for Benchmark Cosmology\n",
    "Comoving = np.zeros(np.size(zrange))\n",
    "Luminosity = np.zeros(np.size(zrange))\n",
    "Angular = np.zeros(np.size(zrange))\n",
    "\n",
    "i=0  # initialize the counter\n",
    "\n",
    "while (i < np.size(zrange)):  # set up the while loop \n",
    "    \n",
    "    # Note that to store in an array need to remove the units.\n",
    "    \n",
    "    # Add the distances for the Benchmark Cosmology\n",
    "    # Comoving[i] = float(DC/u.Mpc) \n",
    "    Comoving[i] =  \n",
    "    Luminosity[i] =  \n",
    "    Angular[i] =  \n",
    "\n",
    "    i += 1  # increase the counter\n",
    "\n",
    "\n"
   ]
  },
  {
   "cell_type": "code",
   "execution_count": 14,
   "metadata": {},
   "outputs": [
    {
     "ename": "SyntaxError",
     "evalue": "invalid syntax (<ipython-input-14-8ee02c1f06e1>, line 11)",
     "output_type": "error",
     "traceback": [
      "\u001b[0;36m  File \u001b[0;32m\"<ipython-input-14-8ee02c1f06e1>\"\u001b[0;36m, line \u001b[0;32m11\u001b[0m\n\u001b[0;31m    plt.loglog(, color='blue', linewidth=5, label='Comoving Distance')\u001b[0m\n\u001b[0m               ^\u001b[0m\n\u001b[0;31mSyntaxError\u001b[0m\u001b[0;31m:\u001b[0m invalid syntax\n"
     ]
    }
   ],
   "source": [
    "\n",
    "# Plot the Distance as a Function of Redshift out to z=15\n",
    "################################################################\n",
    "\n",
    "fig = plt.figure(figsize=(10,10))\n",
    "ax = plt.subplot(111)\n",
    "\n",
    "\n",
    "# Comoving Distance\n",
    "# FILL THIS IN\n",
    "plt.loglog(, color='blue', linewidth=5, label='Comoving Distance')\n",
    "\n",
    "# Luminosity Distance\n",
    "# FILL THIS IN\n",
    "plt.loglog(, color='red', linewidth=5, label='Luminosity Distance')\n",
    "\n",
    "# Angular Diameter Distance\n",
    "# FILL THIS IN\n",
    "plt.loglog(, color='green', linewidth=5, label='Angular Diameter Distance')\n",
    "\n",
    "\n",
    "\n",
    "# Add axis labels\n",
    "plt.xlabel('z', fontsize=22)\n",
    "plt.ylabel('Distance (Mpc)', fontsize=22)\n",
    "\n",
    "#set axis limits\n",
    "plt.xlim(0.01,15)\n",
    "plt.ylim(0,20000)\n",
    "\n",
    "#adjust tick label font size\n",
    "label_size = 22\n",
    "matplotlib.rcParams['xtick.labelsize'] = label_size \n",
    "matplotlib.rcParams['ytick.labelsize'] = label_size\n",
    "\n",
    "legend = ax.legend(loc='upper left', fontsize='x-large')\n",
    "\n",
    "# Save to a file\n",
    "ax.set_rasterized(True)\n",
    "plt.savefig('CosmologicalDistancesBenchmark.eps', rasterized=True, dpi=350)\n"
   ]
  },
  {
   "cell_type": "code",
   "execution_count": null,
   "metadata": {
    "collapsed": true
   },
   "outputs": [],
   "source": []
  },
  {
   "cell_type": "code",
   "execution_count": null,
   "metadata": {
    "collapsed": true
   },
   "outputs": [],
   "source": []
  }
 ],
 "metadata": {
  "kernelspec": {
   "display_name": "Python 2",
   "language": "python",
   "name": "python2"
  },
  "language_info": {
   "codemirror_mode": {
    "name": "ipython",
    "version": 2
   },
   "file_extension": ".py",
   "mimetype": "text/x-python",
   "name": "python",
   "nbconvert_exporter": "python",
   "pygments_lexer": "ipython2",
   "version": "2.7.13"
  }
 },
 "nbformat": 4,
 "nbformat_minor": 2
}
