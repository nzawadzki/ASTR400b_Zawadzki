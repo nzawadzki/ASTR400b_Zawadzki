{
 "cells": [
  {
   "cell_type": "code",
   "execution_count": 2,
   "metadata": {
    "collapsed": true
   },
   "outputs": [],
   "source": [
    "#Nicole Zawadzki\n",
    "#ASTR400b Project\n",
    "#April 10th\n",
    "#Plot the density profile for M33\n",
    "#No more test, this is the real deal"
   ]
  },
  {
   "cell_type": "code",
   "execution_count": 3,
   "metadata": {
    "collapsed": true
   },
   "outputs": [],
   "source": [
    "#import modules\n",
    "import numpy as np\n",
    "import astropy.units as u\n",
    "\n",
    "#import plotting\n",
    "import matplotlib\n",
    "import matplotlib.pyplot as plt\n",
    "from matplotlib.colors import LogNorm\n",
    "%matplotlib inline"
   ]
  },
  {
   "cell_type": "code",
   "execution_count": 4,
   "metadata": {
    "collapsed": true
   },
   "outputs": [],
   "source": [
    "#import relevant files\n",
    "from ReadFile import Read\n",
    "from CenterOfMass import CenterOfMass\n",
    "from MassDistribution import MassProfile"
   ]
  },
  {
   "cell_type": "code",
   "execution_count": 60,
   "metadata": {
    "collapsed": true
   },
   "outputs": [],
   "source": [
    "#function that find the density of M33 at a radius\n",
    "def DensityProfile(galaxy, snap, R):\n",
    "    #input: galaxy name, snapshot, and raduis array \n",
    "    #return: array of densities at each r in inupt array\n",
    "    \n",
    "    #reconstruct file\n",
    "    #add string of the filenumber to find value \"000\"\n",
    "    ilbl = '000' + str(snap)\n",
    "    #remove all but the last 3 digits\n",
    "    ilbl = ilbl[-3:]\n",
    "    filename = \"%s_\"%(galaxy) + ilbl + '.txt'\n",
    "\n",
    "    #read in data from ReadFile\n",
    "    time, total, data = Read(filename)\n",
    "    \n",
    "    #index for disk particles\n",
    "    ptype = np.where(data['type'] == 2)\n",
    "    \n",
    "    #store position and mass from ReadFile for disk particles\n",
    "    x = data['x'][ptype]\n",
    "    y = data['y'][ptype]\n",
    "    z = data['z'][ptype]\n",
    "    m = data['m'][ptype]*1e10\n",
    "    \n",
    "    #create Center of Mass object for disk particles\n",
    "    COM = CenterOfMass(filename,2)\n",
    "    COMP = COM.COM_P(1.0,4.0)\n",
    "    \n",
    "    #mass profile object\n",
    "    Profile = MassProfile(galaxy,snap)\n",
    "    DiskMass = Profile.MassEnclosed(2,R)\n",
    "    \n",
    "    #find position relative to COM\n",
    "    x2 = x - COMP[0]\n",
    "    y2 = y - COMP[1]\n",
    "    z2 = z - COMP[2]\n",
    "    r = np.sqrt(x2**2 + y2**2 + z2**2)\n",
    "    #print len(r)\n",
    "    #print r\n",
    "    #define density array\n",
    "    density = np.zeros(shape=len(R))\n",
    "    \n",
    "    #loop over radius array to find density at certain radius\n",
    "    for radius in range(len(R)):\n",
    "        #finding the volume at radius\n",
    "        vol = ((4.0/3.0)*np.pi*R[radius]**3)\n",
    "        #find and store particle masses within given radius\n",
    "        index = np.where(r<R[radius])\n",
    "        #print R[radius]\n",
    "        #print np.shape(index)\n",
    "        density[radius] = np.sum(m[index])/vol\n",
    "        \n",
    "    return density*u.Msun/u.kpc\n",
    "      "
   ]
  },
  {
   "cell_type": "code",
   "execution_count": 61,
   "metadata": {},
   "outputs": [
    {
     "name": "stdout",
     "output_type": "stream",
     "text": [
      "[  0.     0.07   1.     2.79   4.36   5.5    6.86   7.57   8.36   9.     9.64\n",
      "  10.14  10.64  11.14]\n",
      "0.014275862069\n",
      "[   0.            4.90338164   70.04830918  195.43478261  305.41062802\n",
      "  385.26570048  480.53140097  530.26570048  585.60386473  630.43478261\n",
      "  675.26570048  710.28985507  745.31400966  780.33816425]\n"
     ]
    }
   ],
   "source": [
    "#find snapshots calculate the density at\n",
    "#use apocenter and pericenter of M33 orbit around M31\n",
    "#adapting code from bonus question in homework 6\n",
    "\n",
    "#read in orbit text file\n",
    "fM33 = np.genfromtxt('SnapData_M33.txt', dtype=None, names=True)\n",
    "fM31 = np.genfromtxt('SnapData_M31.txt', dtype=None, names=True)\n",
    "t = fM33['t']\n",
    "snap = fM33['snap']\n",
    "\n",
    "#find separation between M33 and M31\n",
    "xsep = abs(fM31['x'] - fM33['x'])\n",
    "ysep = abs(fM31['y'] - fM33['y'])\n",
    "zsep = abs(fM31['z'] - fM33['z'])\n",
    "rsep = np.sqrt(xsep**2 + ysep**2 + zsep**2)\n",
    "\n",
    "#define array to store desired times\n",
    "time_array = []\n",
    "\n",
    "#indexing time after 6 Gyr\n",
    "#ind = np.where(time>6)\n",
    "#using index for separation array\n",
    "#rnew = r[ind]\n",
    "#timenew = time[ind]\n",
    "\n",
    "#loop over r separation to find apocenters and pericenters\n",
    "for i in range(len(rsep)):\n",
    "    #if the middle separation is the greatest, this is the apocenter, and print the time and position\n",
    "    try: \n",
    "        if rsep[i-2]<rsep[i-1] and rsep[i-1]>rsep[i]:\n",
    "            #print 'position:', rnew[i-1], 'time:', timenew[i-1]\n",
    "            time_array.append(t[i])\n",
    "        elif rsep[i-2]>rsep[i-1] and rsep[i-1]<rsep[i]:\n",
    "            time_array.append(t[i])\n",
    "        else:\n",
    "            a=0 #else do nothing\n",
    "    except: \n",
    "        a=0\n",
    "\n",
    "time_array = np.round_(time_array,4)\n",
    "print time_array\n",
    "\n",
    "#finding relationship between snap and time\n",
    "#m = (t[150]-t[5])/(snap[150]-snap[5])\n",
    "#print m\n",
    "\n",
    "#snapshot = time_array/m\n",
    "#print snapshot"
   ]
  },
  {
   "cell_type": "code",
   "execution_count": 62,
   "metadata": {},
   "outputs": [
    {
     "name": "stdout",
     "output_type": "stream",
     "text": [
      "[   0.    5.   70.  195.  305.  385.  480.  530.  585.  630.  675.  710.\n",
      "  745.  780.]\n"
     ]
    }
   ],
   "source": [
    "#finding the snapshots I need to plot the density profiles at the apo/pericenters\n",
    "shot = np.zeros(shape=len(time_array))\n",
    "for i in range(len(time_array)):\n",
    "    ind = np.where(t==time_array[i])\n",
    "    shot[i] = snap[ind]\n",
    "\n",
    "print shot    "
   ]
  },
  {
   "cell_type": "code",
   "execution_count": 75,
   "metadata": {},
   "outputs": [],
   "source": [
    "R = np.logspace(-1,1.477,100)\n",
    "\n",
    "M33density1 = DensityProfile('M33', 0, R)\n",
    "M33density2 = DensityProfile('M33', 5, R)\n",
    "M33density3 = DensityProfile('M33', 70, R)\n",
    "M33density4 = DensityProfile('M33', 195, R)\n",
    "M33density5 = DensityProfile('M33', 305, R)\n",
    "M33density6 = DensityProfile('M33', 385, R)\n",
    "M33density7 = DensityProfile('M33', 480, R)\n",
    "M33density8 = DensityProfile('M33', 530, R)\n",
    "M33density9 = DensityProfile('M33', 585, R)\n",
    "M33density10 = DensityProfile('M33', 630, R)\n",
    "M33density11 = DensityProfile('M33', 675, R)\n",
    "M33density12 = DensityProfile('M33', 710, R)\n",
    "M33density13 = DensityProfile('M33', 745, R)\n",
    "M33density14 = DensityProfile('M33', 780, R)"
   ]
  },
  {
   "cell_type": "code",
   "execution_count": 77,
   "metadata": {
    "scrolled": true
   },
   "outputs": [
    {
     "data": {
      "image/png": "[encoded data removed]",
      "text/plain": [
       "<matplotlib.figure.Figure at 0x7f8ef0c3d550>"
      ]
     },
     "metadata": {},
     "output_type": "display_data"
    }
   ],
   "source": [
    "fig = plt.figure()\n",
    "ax = plt.subplot(111)\n",
    "plt.semilogy(R,M33density1, label='0 Gyr')\n",
    "#plt.semilogy(R,M33density2, label='0.07 Gyr')\n",
    "#plt.semilogy(R,M33density3, label='1 Gyr')\n",
    "#plt.semilogy(R,M33density4, label='2.79 Gyr')\n",
    "#plt.semilogy(R,M33density5, label='4.36 Gyr')\n",
    "#plt.semilogy(R,M33density6, label='5.5 Gyr')\n",
    "#plt.semilogy(R,M33density7, label='6.86 Gyr')\n",
    "#plt.semilogy(R,M33density8, label='7.57 Gyr')\n",
    "plt.semilogy(R,M33density9, label='8.36 Gyr')\n",
    "#plt.semilogy(R,M33density10, label='9 Gyr')\n",
    "#plt.semilogy(R,M33density11, label='9.64 Gyr')\n",
    "#plt.semilogy(R,M33density12, label='10.14 Gyr')\n",
    "#plt.semilogy(R,M33density13, label='10.96 Gyr')\n",
    "#plt.semilogy(R,M33density14, label='11.14 Gyr')\n",
    "plt.xlabel('Radius (kpc)', fontsize=22)\n",
    "plt.xscale('log')\n",
    "plt.ylabel('density(Msun/kpc**3)')\n",
    "legend = ax.legend()"
   ]
  },
  {
   "cell_type": "code",
   "execution_count": null,
   "metadata": {
    "collapsed": true
   },
   "outputs": [],
   "source": []
  }
 ],
 "metadata": {
  "kernelspec": {
   "display_name": "Python 2",
   "language": "python",
   "name": "python2"
  },
  "language_info": {
   "codemirror_mode": {
    "name": "ipython",
    "version": 2
   },
   "file_extension": ".py",
   "mimetype": "text/x-python",
   "name": "python",
   "nbconvert_exporter": "python",
   "pygments_lexer": "ipython2",
   "version": "2.7.13"
  }
 },
 "nbformat": 4,
 "nbformat_minor": 2
}
