{
 "cells": [
  {
   "cell_type": "code",
   "execution_count": 1,
   "metadata": {
    "collapsed": true
   },
   "outputs": [],
   "source": [
    "#Nicole Zawadzki\n",
    "#ASTR400b Project\n",
    "#April 10th\n",
    "#Plot the density profile for M33\n",
    "#No more test, this is the real deal"
   ]
  },
  {
   "cell_type": "code",
   "execution_count": 3,
   "metadata": {
    "collapsed": true
   },
   "outputs": [],
   "source": [
    "#import modules\n",
    "import numpy as np\n",
    "import astropy.units as u\n",
    "\n",
    "#import plotting\n",
    "import matplotlib\n",
    "import matplotlib.pyplot as plt\n",
    "from matplotlib.colors import LogNorm\n",
    "%matplotlib inline"
   ]
  },
  {
   "cell_type": "code",
   "execution_count": 4,
   "metadata": {
    "collapsed": true
   },
   "outputs": [],
   "source": [
    "#import relevant files\n",
    "from ReadFile import Read\n",
    "from CenterOfMass import CenterOfMass\n",
    "from MassDistribution import MassProfile"
   ]
  },
  {
   "cell_type": "code",
   "execution_count": null,
   "metadata": {
    "collapsed": true
   },
   "outputs": [],
   "source": [
    "#function that find the density of M33 at a radius\n",
    "def DensityProfile(galaxy, snap, R):\n",
    "    #input: galaxy name, snapshot, and raduis array \n",
    "    #return: array of densities at each r in inupt array\n",
    "    \n",
    "    #reconstruct file\n",
    "    #add string of the filenumber to find value \"000\"\n",
    "    ilbl = '000' + str(snap)\n",
    "    #remove all but the last 3 digits\n",
    "    ilbl = ilbl[-3:]\n",
    "    filename = \"%s_\"%(galaxy) + ilbl + '.txt'\n",
    "\n",
    "    #read in data from ReadFile\n",
    "    time, total, data = Read(filename)\n",
    "    \n",
    "    #index for disk particles\n",
    "    ptype = np.where(data['type'] == 2)\n",
    "    \n",
    "    #store position and mass from ReadFile for disk particles\n",
    "    x = data['x'][ptype]\n",
    "    y = data['y'][ptype]\n",
    "    z = data['z'][ptype]\n",
    "    m = data['m'][ptype]\n",
    "    \n",
    "    #create Center of Mass object for disk particles\n",
    "    COM = CenterOfMass(filename,2)\n",
    "    COMP = COM.COM_P(1.0,4.0)\n",
    "    \n",
    "    #find position relative to COM\n",
    "    x2 = x - COMP[0]\n",
    "    y2 = y - COMP[1]\n",
    "    z2 = z - COMP[2]\n",
    "    r = np.sqrt(x2**2 + y2**2 + z2**2)\n",
    "    \n",
    "    #finding the volume at radius\n",
    "    vol = (4.0/3.0)*np.pi*r**3\n",
    "    \n",
    "    \n",
    "    \n",
    "    \n",
    "        "
   ]
  }
 ],
 "metadata": {
  "kernelspec": {
   "display_name": "Python 2",
   "language": "python",
   "name": "python2"
  },
  "language_info": {
   "codemirror_mode": {
    "name": "ipython",
    "version": 2
   },
   "file_extension": ".py",
   "mimetype": "text/x-python",
   "name": "python",
   "nbconvert_exporter": "python",
   "pygments_lexer": "ipython2",
   "version": "2.7.13"
  }
 },
 "nbformat": 4,
 "nbformat_minor": 2
}
