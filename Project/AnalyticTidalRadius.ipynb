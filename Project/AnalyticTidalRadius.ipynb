{
 "cells": [
  {
   "cell_type": "code",
   "execution_count": 24,
   "metadata": {
    "collapsed": true
   },
   "outputs": [],
   "source": [
    "#Nicole Zawadzki\n",
    "#ASTRO400B Project\n",
    "#Finding the Tidal Radius of M33 Analytically"
   ]
  },
  {
   "cell_type": "code",
   "execution_count": 25,
   "metadata": {
    "collapsed": true
   },
   "outputs": [],
   "source": [
    "#import modules\n",
    "import numpy as np\n",
    "from ReadFile import Read\n",
    "from CenterOfMass import CenterOfMass\n",
    "import matplotlib.pyplot as plt\n",
    "get_ipython().magic('matplotlib inline')"
   ]
  },
  {
   "cell_type": "code",
   "execution_count": 26,
   "metadata": {},
   "outputs": [],
   "source": [
    "#read in COM data files for MW, M31, and M33\n",
    "fMW = np.genfromtxt('Orbit_MW.txt', dtype=None, names=True)\n",
    "fM31 = np.genfromtxt('Orbit_M31.txt', dtype=None, names=True)\n",
    "fM33 = np.genfromtxt('Orbit_M33.txt', dtype=None, names=True)"
   ]
  },
  {
   "cell_type": "code",
   "execution_count": 31,
   "metadata": {},
   "outputs": [],
   "source": [
    "def TidalRadiusPoint(satgalaxy, hostgalaxy, snap):\n",
    "    #find the tidal radius analytically throughout the simulation assuming the galaxies are point masses\n",
    "    #input: satallite galaxy, host galaxy, snapshots\n",
    "    #return: tidal radius \n",
    "    \n",
    "    #use inputs to reconstruct filename\n",
    "    #add string of the filenumber to find value \"000\"\n",
    "    ilbl = '000' + str(snap)\n",
    "    #remove all but the last 3 digits\n",
    "    ilbl = ilbl[-3:]\n",
    "    satfilename = \"%s_\"%(satgalaxy) + ilbl + '.txt'\n",
    "    hostfilename = \"%s_\"%(hostgalaxy) + ilbl + '.txt'\n",
    "\n",
    "    #read in data from ReadFile for satellite and host galaxy \n",
    "    sat_time, sat_total, sat_data = Read(satfilename)\n",
    "    host_time, host_total, host_data = Read(hostfilename)   \n",
    "    \n",
    "    #index for stellar particles\n",
    "    sat_ptype = np.where(sat_data['type'] == 2)\n",
    "    host_ptype = np.where(host_data['type'] == 2)\n",
    "    \n",
    "    #find separation between M33 and M31\n",
    "    x = abs(fM31['x'] - fM33['x'])\n",
    "    y = abs(fM31['y'] - fM33['y'])\n",
    "    z = abs(fM31['z'] - fM33['z'])\n",
    "    R = np.sqrt(x**2 + y**2 + z**2)\n",
    "    \n",
    "    #find separation between M33 and MW\n",
    "    x1 = abs(fMW['x'] - fM33['x'])\n",
    "    y1 = abs(fMW['y'] - fM33['y'])\n",
    "    z1 = abs(fMW['z'] - fM33['z'])\n",
    "    R1 = np.sqrt(x1**2 + y1**2 + z1**2)\n",
    "    \n",
    "    #find separation between MW and M31\n",
    "    x2 = abs(fM31['x'] - fMW['x'])\n",
    "    y2 = abs(fM31['y'] - fMW['y'])\n",
    "    z2 = abs(fM31['z'] - fMW['z'])\n",
    "    R2 = np.sqrt(x2**2 + y2**2 + z2**2)\n",
    "\n",
    "    #Masses\n",
    "    M31mass = np.sum(host_data['m'][host_ptype])\n",
    "    M33mass = np.sum(sat_data['m'][sat_ptype])\n",
    "    #Center of Mass object for MW\n",
    "    MWCOM = CenterOfMass('MW_000.txt',2)\n",
    "    MWmass = MWCOM.total_mass(MWCOM.m)\n",
    "    \n",
    "    while (R2 > 20):\n",
    "        r_t = R*(M33mass/(2.0*M31mass))**(1.0/3.0)\n",
    "        \n",
    "    else:\n",
    "        r_t = R*(M33mass/(2.0*(M31mass+MWmass)))**(1.0/3.0)\n",
    "    \n",
    "    return r_t"
   ]
  },
  {
   "cell_type": "code",
   "execution_count": 32,
   "metadata": {},
   "outputs": [
    {
     "ename": "ValueError",
     "evalue": "The truth value of an array with more than one element is ambiguous. Use a.any() or a.all()",
     "output_type": "error",
     "traceback": [
      "\u001b[0;31m---------------------------------------------------------------------------\u001b[0m",
      "\u001b[0;31mValueError\u001b[0m                                Traceback (most recent call last)",
      "\u001b[0;32m<ipython-input-32-12f934789833>\u001b[0m in \u001b[0;36m<module>\u001b[0;34m()\u001b[0m\n\u001b[0;32m----> 1\u001b[0;31m \u001b[0mtest\u001b[0m \u001b[0;34m=\u001b[0m \u001b[0mTidalRadiusPoint\u001b[0m\u001b[0;34m(\u001b[0m\u001b[0;34m'M33'\u001b[0m\u001b[0;34m,\u001b[0m\u001b[0;34m'M31'\u001b[0m\u001b[0;34m,\u001b[0m\u001b[0;36m0\u001b[0m\u001b[0;34m)\u001b[0m\u001b[0;34m\u001b[0m\u001b[0m\n\u001b[0m\u001b[1;32m      2\u001b[0m \u001b[0;31m#print test\u001b[0m\u001b[0;34m\u001b[0m\u001b[0;34m\u001b[0m\u001b[0m\n\u001b[1;32m      3\u001b[0m \u001b[0mtime\u001b[0m \u001b[0;34m=\u001b[0m \u001b[0mfM33\u001b[0m\u001b[0;34m[\u001b[0m\u001b[0;34m't'\u001b[0m\u001b[0;34m]\u001b[0m\u001b[0;34m\u001b[0m\u001b[0m\n\u001b[1;32m      4\u001b[0m \u001b[0mfig\u001b[0m \u001b[0;34m=\u001b[0m \u001b[0mplt\u001b[0m\u001b[0;34m.\u001b[0m\u001b[0mfigure\u001b[0m\u001b[0;34m(\u001b[0m\u001b[0;34m)\u001b[0m\u001b[0;34m\u001b[0m\u001b[0m\n\u001b[1;32m      5\u001b[0m \u001b[0max\u001b[0m \u001b[0;34m=\u001b[0m \u001b[0mplt\u001b[0m\u001b[0;34m.\u001b[0m\u001b[0msubplot\u001b[0m\u001b[0;34m(\u001b[0m\u001b[0;36m111\u001b[0m\u001b[0;34m)\u001b[0m\u001b[0;34m\u001b[0m\u001b[0m\n",
      "\u001b[0;32m<ipython-input-31-8cffddbae556>\u001b[0m in \u001b[0;36mTidalRadiusPoint\u001b[0;34m(satgalaxy, hostgalaxy, snap)\u001b[0m\n\u001b[1;32m     45\u001b[0m     \u001b[0mMWmass\u001b[0m \u001b[0;34m=\u001b[0m \u001b[0mMWCOM\u001b[0m\u001b[0;34m.\u001b[0m\u001b[0mtotal_mass\u001b[0m\u001b[0;34m(\u001b[0m\u001b[0mMWCOM\u001b[0m\u001b[0;34m.\u001b[0m\u001b[0mm\u001b[0m\u001b[0;34m)\u001b[0m\u001b[0;34m\u001b[0m\u001b[0m\n\u001b[1;32m     46\u001b[0m \u001b[0;34m\u001b[0m\u001b[0m\n\u001b[0;32m---> 47\u001b[0;31m     \u001b[0;32mwhile\u001b[0m \u001b[0;34m(\u001b[0m\u001b[0mR2\u001b[0m \u001b[0;34m>\u001b[0m \u001b[0;36m20\u001b[0m\u001b[0;34m)\u001b[0m\u001b[0;34m:\u001b[0m\u001b[0;34m\u001b[0m\u001b[0m\n\u001b[0m\u001b[1;32m     48\u001b[0m         \u001b[0mr_t\u001b[0m \u001b[0;34m=\u001b[0m \u001b[0mR\u001b[0m\u001b[0;34m*\u001b[0m\u001b[0;34m(\u001b[0m\u001b[0mM33mass\u001b[0m\u001b[0;34m/\u001b[0m\u001b[0;34m(\u001b[0m\u001b[0;36m2.0\u001b[0m\u001b[0;34m*\u001b[0m\u001b[0mM31mass\u001b[0m\u001b[0;34m)\u001b[0m\u001b[0;34m)\u001b[0m\u001b[0;34m**\u001b[0m\u001b[0;34m(\u001b[0m\u001b[0;36m1.0\u001b[0m\u001b[0;34m/\u001b[0m\u001b[0;36m3.0\u001b[0m\u001b[0;34m)\u001b[0m\u001b[0;34m\u001b[0m\u001b[0m\n\u001b[1;32m     49\u001b[0m \u001b[0;34m\u001b[0m\u001b[0m\n",
      "\u001b[0;31mValueError\u001b[0m: The truth value of an array with more than one element is ambiguous. Use a.any() or a.all()"
     ]
    }
   ],
   "source": [
    "test = TidalRadiusPoint('M33','M31',0)\n",
    "#print test\n",
    "time = fM33['t']\n",
    "fig = plt.figure()\n",
    "ax = plt.subplot(111)\n",
    "plt.plot(time,test)\n",
    "plt.xlabel('time')\n",
    "plt.ylabel('tidal radius')"
   ]
  },
  {
   "cell_type": "code",
   "execution_count": null,
   "metadata": {
    "collapsed": true
   },
   "outputs": [],
   "source": [
    "#adapt a mass profile      \n",
    "        "
   ]
  }
 ],
 "metadata": {
  "kernelspec": {
   "display_name": "Python 2",
   "language": "python",
   "name": "python2"
  },
  "language_info": {
   "codemirror_mode": {
    "name": "ipython",
    "version": 2
   },
   "file_extension": ".py",
   "mimetype": "text/x-python",
   "name": "python",
   "nbconvert_exporter": "python",
   "pygments_lexer": "ipython2",
   "version": "2.7.13"
  }
 },
 "nbformat": 4,
 "nbformat_minor": 2
}
