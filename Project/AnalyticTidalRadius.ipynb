{
 "cells": [
  {
   "cell_type": "code",
   "execution_count": 1,
   "metadata": {
    "collapsed": true
   },
   "outputs": [],
   "source": [
    "#Nicole Zawadzki\n",
    "#ASTRO400B Project\n",
    "#Finding the Tidal Radius of M33 Analytically"
   ]
  },
  {
   "cell_type": "code",
   "execution_count": 2,
   "metadata": {
    "collapsed": true
   },
   "outputs": [],
   "source": [
    "#import modules\n",
    "import numpy as np\n",
    "from ReadFile import Read\n",
    "from CenterOfMass import CenterOfMass"
   ]
  },
  {
   "cell_type": "code",
   "execution_count": 4,
   "metadata": {},
   "outputs": [],
   "source": [
    "#read in COM data files for MW, M31, and M33\n",
    "fMW = np.genfromtxt('Orbit_MW.txt', dtype=None, names=True)\n",
    "fM31 = np.genfromtxt('Orbit_M31.txt', dtype=None, names=True)\n",
    "fM33 = np.genfromtxt('Orbit_M33.txt', dtype=None, names=True)"
   ]
  },
  {
   "cell_type": "code",
   "execution_count": 13,
   "metadata": {},
   "outputs": [
    {
     "name": "stdout",
     "output_type": "stream",
     "text": [
      "\n"
     ]
    }
   ],
   "source": [
    "def TidalRadiusPoint(satgalaxy, hostgalaxy, snap):\n",
    "    #find the tidal radius analytically throughout the simulation assuming the galaxies are point masses\n",
    "    #input: satallite galaxy, host galaxy, snapshots\n",
    "    #return: tidal radius \n",
    "    #use inputs to reconstruct filename\n",
    "    #add string of the filenumber to find value \"000\"\n",
    "    ilbl = '000' + str(snap)\n",
    "    #remove all but the last 3 digits\n",
    "    ilbl = ilbl[-3:]\n",
    "    satfilename = \"%s_\"%(satgalaxy) + ilbl + '.txt'\n",
    "    hostfilename = \"%s_\"%(hostgalaxy) + ilbl + '.txt'\n",
    "\n",
    "    #read in data from ReadFile for satellite and host galaxy \n",
    "    sat_time, sat_total, sat_data = Read(satfilename)\n",
    "    host_time, host_total, host_data = Read(hostfilename)   \n",
    "    \n",
    "    #index for stellar particles\n",
    "    sat_ptype = np.where(sat_data['type'] == 2)\n",
    "    host_ptype = np.where(host_data['type'] == 2)\n",
    "    \n",
    "    #find separation between M33 and M31\n",
    "    x = abs(fM31['x'] - fM33['x'])\n",
    "    y = abs(fM31['y'] - fM33['y'])\n",
    "    z = abs(fM31['z'] - fM33['z'])\n",
    "    R = np.sqrt(x**2 + y**2 + z**2)\n",
    "    \n",
    "    #Masses\n",
    "    M = np.sum(host_data['m'][host_ptype])\n",
    "    m = np.sum(sat_data['m'][sat_ptype])\n",
    "\n",
    "    r_t = R*(m/(2*M))**(1/3)\n",
    "    \n",
    "    return r_t"
   ]
  },
  {
   "cell_type": "code",
   "execution_count": 14,
   "metadata": {},
   "outputs": [
    {
     "name": "stdout",
     "output_type": "stream",
     "text": [
      "[ 201.08455808  190.37904769  179.58062785  168.61969339  157.34846361\n",
      "  145.62098097  133.8397314   122.5568158   111.71561261  101.36579995\n",
      "   92.17905782   85.08002233   80.757126     79.78068125   82.62642313\n",
      "   88.93208364   97.14973803  106.48195246  116.16789832  126.27281022\n",
      "  136.14230827  145.59045882  154.46438327  163.00081135  171.04245613\n",
      "  178.16252047  184.78628602  190.70834984  196.11275481  200.78962573\n",
      "  204.67162871  208.18116966  211.0931529   213.66332793  215.74038704\n",
      "  217.30561221  218.30522165  218.72673568  218.64817836  218.02536389\n",
      "  217.19522163  215.45581844  213.20977933  210.3923404   206.78518564\n",
      "  202.72412387  197.83125537  192.00909145  185.39220588  177.64384397\n",
      "  169.0411373   159.57182897  148.29247621  135.35353117  120.32821032\n",
      "  103.45920452   86.07100383   71.63750554   61.17526461   55.40861576\n",
      "   55.41388815   59.82050652   67.10387396   75.11962327   83.49009402\n",
      "   91.26196853   98.80225807  105.75831929  112.71815515  119.4205803\n",
      "  126.34971547  133.87017106  142.13394844  151.2209992   159.46381847\n",
      "  163.42536584  164.2321896   162.88063298  159.87553909  155.06068167\n",
      "  148.72124058  140.20233736  128.25417498  118.41395526  114.33634155\n",
      "  112.26171253  109.4144209   105.96666834  100.65577281   92.77905205\n",
      "   83.93612452   74.52869045   63.25762009   53.62746032   47.30836078\n",
      "   47.32711802   53.2912779    62.95715448   72.37073234   81.52451226\n",
      "   89.84818418   96.57164905  101.87038137  105.74127293  107.98852948\n",
      "  108.90063407  108.11782092  105.87102484  102.35592411   97.02459946\n",
      "   90.22839963   82.31215038   72.92387401   62.65273418   52.78498745\n",
      "   45.26957256   41.53866753   46.42928063   53.95607565   62.32296607\n",
      "   70.23787369   76.99647849   82.45968227   86.44833659   88.74713855\n",
      "   89.07070506   88.06212523   85.05582755   80.5476089    74.0428295\n",
      "   65.80895228   56.16926651   46.06968852   37.93211963   36.47438279\n",
      "   42.5520258    52.03522461   60.94684077   68.23995091   73.52251764\n",
      "   76.58006856   77.27152322   75.74745936   72.07691725   65.94401489\n",
      "   58.016377     48.68140816   39.97195142   28.1304337    37.95347415\n",
      "   45.24738003   53.43189123   60.63251026   66.17168805   69.48060233\n",
      "   70.53047852   69.59302479   66.24913811   60.49218793   52.68208329\n",
      "   43.12497536]\n"
     ]
    }
   ],
   "source": [
    "test = TidalRadiusPoint('M33','M31',0)\n",
    "print test"
   ]
  },
  {
   "cell_type": "code",
   "execution_count": null,
   "metadata": {
    "collapsed": true
   },
   "outputs": [],
   "source": [
    "class TidalRadius:\n",
    "    \n",
    "    def __init__(self,galaxy,snap):\n",
    "        #use inputs to reconstruct filename\n",
    "        #add string of the filenumber to find value \"000\"\n",
    "        ilbl = '000' + str(snap)\n",
    "        #remove all but the last 3 digits\n",
    "        ilbl = ilbl[-3:]\n",
    "        self.filename = \"%s_\"%(galaxy) + ilbl + '.txt'\n",
    "\n",
    "        #read in data from ReadFile\n",
    "        self.time, self.total, self.data = Read(self.filename)\n",
    "        \n",
    "        #store position and mass data from ReadFile\n",
    "        self.x = self.data['x']\n",
    "        self.y = self.data['y']\n",
    "        self.z = self.data['z']\n",
    "        self.m = self.data['m']\n",
    "       \n",
    "        "
   ]
  }
 ],
 "metadata": {
  "kernelspec": {
   "display_name": "Python 2",
   "language": "python",
   "name": "python2"
  },
  "language_info": {
   "codemirror_mode": {
    "name": "ipython",
    "version": 2
   },
   "file_extension": ".py",
   "mimetype": "text/x-python",
   "name": "python",
   "nbconvert_exporter": "python",
   "pygments_lexer": "ipython2",
   "version": "2.7.13"
  }
 },
 "nbformat": 4,
 "nbformat_minor": 2
}
