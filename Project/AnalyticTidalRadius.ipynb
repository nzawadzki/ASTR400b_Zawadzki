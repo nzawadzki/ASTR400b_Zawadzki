{
 "cells": [
  {
   "cell_type": "code",
   "execution_count": 1,
   "metadata": {
    "collapsed": true
   },
   "outputs": [],
   "source": [
    "#Nicole Zawadzki\n",
    "#ASTRO400B Project\n",
    "#Finding the Tidal Radius of M33 Analytically"
   ]
  },
  {
   "cell_type": "code",
   "execution_count": 11,
   "metadata": {
    "collapsed": true
   },
   "outputs": [],
   "source": [
    "#import modules\n",
    "import numpy as np\n",
    "from ReadFile import Read\n",
    "from CenterOfMass import CenterOfMass\n",
    "from MassDistribution import MassProfile\n",
    "import matplotlib.pyplot as plt\n",
    "get_ipython().magic('matplotlib inline')"
   ]
  },
  {
   "cell_type": "code",
   "execution_count": 3,
   "metadata": {
    "collapsed": true
   },
   "outputs": [],
   "source": [
    "#read in COM data files for MW, M31, and M33\n",
    "fMW = np.genfromtxt('Orbit_MW.txt', dtype=None, names=True)\n",
    "fM31 = np.genfromtxt('Orbit_M31.txt', dtype=None, names=True)\n",
    "fM33 = np.genfromtxt('Orbit_M33.txt', dtype=None, names=True)"
   ]
  },
  {
   "cell_type": "code",
   "execution_count": 9,
   "metadata": {},
   "outputs": [],
   "source": [
    "def TidalRadiusPoint(galaxy1, galaxy2, galaxy3, snap):\n",
    "    #find the tidal radius analytically throughout the simulation assuming the galaxies are point masses\n",
    "    #input: satallite galaxy, host galaxy, snapshots\n",
    "    #return: tidal radius \n",
    "    \n",
    "    #use inputs to reconstruct filename\n",
    "    #add string of the filenumber to find value \"000\"\n",
    "    ilbl = '000' + str(snap)\n",
    "    #remove all but the last 3 digits\n",
    "    ilbl = ilbl[-3:]\n",
    "    name1 = \"%s_\"%(galaxy1) + ilbl + '.txt'\n",
    "    name2 = \"%s_\"%(galaxy2) + ilbl + '.txt'\n",
    "    name3 = \"%s_\"%(galaxy3) + ilbl + '.txt'\n",
    "\n",
    "    #read in data from ReadFile for satellite and host galaxy \n",
    "    time1, total1, data1 = Read(name1)\n",
    "    time2, total2, data2 = Read(name2)   \n",
    "    time3, total3, data3 = Read(name3)\n",
    "    \n",
    "    #index for stellar particles\n",
    "    ptype1 = np.where(data2['type'] == 2)\n",
    "    ptype2 = np.where(data2['type'] == 2)\n",
    "    ptype3 = np.where(data3['type'] == 2)\n",
    "    \n",
    "    #find separation between M33 and M31\n",
    "    x = abs(fM31['x'] - fM33['x'])\n",
    "    y = abs(fM31['y'] - fM33['y'])\n",
    "    z = abs(fM31['z'] - fM33['z'])\n",
    "    R = np.sqrt(x**2 + y**2 + z**2)\n",
    "    \n",
    "    #find separation between M33 and MW\n",
    "    x1 = abs(fMW['x'] - fM33['x'])\n",
    "    y1 = abs(fMW['y'] - fM33['y'])\n",
    "    z1 = abs(fMW['z'] - fM33['z'])\n",
    "    R1 = np.sqrt(x1**2 + y1**2 + z1**2)\n",
    "    \n",
    "    #find separation between MW and M31\n",
    "    x2 = abs(fM31['x'] - fMW['x'])\n",
    "    y2 = abs(fM31['y'] - fMW['y'])\n",
    "    z2 = abs(fM31['z'] - fMW['z'])\n",
    "    R2 = np.sqrt(x2**2 + y2**2 + z2**2)\n",
    "\n",
    "    #Masses of disks\n",
    "    MWMass = 0.075e12 #Msun\n",
    "    M31Mass = 0.120e12 #Msun    \n",
    "    M33Mass = 0.009e12 #Msun\n",
    "    \n",
    "    r_t = np.zeros(shape=len(R))\n",
    "    #loop over radius elements and find tidal radius at each point\n",
    "    for i in range(len(R)):\n",
    "        if R2[i] > 20:\n",
    "            r_t[i] = R[i]*(M33Mass/(2.0*M31Mass))**(1.0/3.0)\n",
    "        \n",
    "        else:\n",
    "            r_t[i] = R[i]*(M33Mass/(2.0*(M31Mass+MWMass)))**(1.0/3.0)\n",
    "    \n",
    "    return r_t"
   ]
  },
  {
   "cell_type": "code",
   "execution_count": 10,
   "metadata": {},
   "outputs": [
    {
     "data": {
      "text/plain": [
       "<matplotlib.text.Text at 0x7f569503c810>"
      ]
     },
     "execution_count": 10,
     "metadata": {},
     "output_type": "execute_result"
    },
    {
     "data": {
      "image/png": "[encoded data removed]",
      "text/plain": [
       "<matplotlib.figure.Figure at 0x7f56d52b3d90>"
      ]
     },
     "metadata": {},
     "output_type": "display_data"
    }
   ],
   "source": [
    "test = TidalRadiusPoint('M33','M31', 'MW',0)\n",
    "#print test\n",
    "time = fM33['t']\n",
    "fig = plt.figure()\n",
    "ax = plt.subplot(111)\n",
    "plt.plot(time,test)\n",
    "plt.xlabel('time')\n",
    "plt.ylabel('tidal radius')"
   ]
  },
  {
   "cell_type": "code",
   "execution_count": 12,
   "metadata": {
    "collapsed": true
   },
   "outputs": [],
   "source": [
    "#adapt a mass profile\n",
    "def TidalRadiusHernquist(galaxy1, galaxy2, galaxy3, snap, r):\n",
    "    #adopting a mass profile to calculate the tidal radius of M33 \n",
    "    #input: galaxy names, snap number, and radius array\n",
    "    #return: array with tidal radii throughout the simulation\n",
    "       \n",
    "    #find separation between M33 and M31\n",
    "    x = abs(fM31['x'] - fM33['x'])\n",
    "    y = abs(fM31['y'] - fM33['y'])\n",
    "    z = abs(fM31['z'] - fM33['z'])\n",
    "    R = np.sqrt(x**2 + y**2 + z**2)\n",
    "    \n",
    "    #find separation between M33 and MW\n",
    "    x1 = abs(fMW['x'] - fM33['x'])\n",
    "    y1 = abs(fMW['y'] - fM33['y'])\n",
    "    z1 = abs(fMW['z'] - fM33['z'])\n",
    "    R1 = np.sqrt(x1**2 + y1**2 + z1**2)\n",
    "    \n",
    "    #find separation between MW and M31\n",
    "    x2 = abs(fM31['x'] - fMW['x'])\n",
    "    y2 = abs(fM31['y'] - fMW['y'])\n",
    "    z2 = abs(fM31['z'] - fMW['z'])\n",
    "    R2 = np.sqrt(x2**2 + y2**2 + z2**2)\n",
    "\n",
    "    #Masses of disks\n",
    "    MWMass = 0.075e12 #Msun\n",
    "    M31Mass = 0.120e12 #Msun    \n",
    "    M33Mass = 0.009e12 #Msun\n",
    "    \n",
    "    #Masses of halos\n",
    "    MWHaloMass = 1.975e12\n",
    "    M31HaloMass = 1.921e12\n",
    "    M33HaloMass = 0.187e12\n",
    "    \n",
    "    #scale factor for galaxies\n",
    "    MWa = 61 #kpc\n",
    "    M31a = 62 #kpc\n",
    "    M33a = 25 #kpc\n",
    "    \n",
    "    #create class objects for each galaxy profile\n",
    "    MWMass = MassProfile(galaxy3,snap)\n",
    "    MWHernquist = MWMass.HernquistMass(r,MWa,MWHaloMass)\n",
    "    M31Mass = MassProfile(galaxy2,snap)\n",
    "    M31Hernquist = M31Mass.HernquistMass(r,M31a,M31HaloMass)\n",
    "    M33Mass = MassProfile(galaxy1,snap)\n",
    "    M33Hernquist = M33Mass.HernquistMass(r,M33a,M33HaloMass)\n",
    "    \n",
    "    r_t = np.zeros(shape=len(R))\n",
    "    \n",
    "    for i in range(len(R)):\n",
    "        if R2>20:\n",
    "            r_t[i] = R[i]*(M33Hernquist/(2*M31Hernquist))**(1.0/3.0)\n",
    "            \n",
    "        else:\n",
    "            r_t[i] = R[i]*(M33Hernquist/(2*M31Hernquist))**(1.0/3.0) + R1[i]*(M33Hernquist/(2*MWHernquist))**(1.0/3.0)\n",
    "            \n",
    "    return r_t                                                              \n",
    "        "
   ]
  },
  {
   "cell_type": "code",
   "execution_count": 13,
   "metadata": {},
   "outputs": [
    {
     "ename": "NameError",
     "evalue": "name 'logspace' is not defined",
     "output_type": "error",
     "traceback": [
      "\u001b[0;31m---------------------------------------------------------------------------\u001b[0m",
      "\u001b[0;31mNameError\u001b[0m                                 Traceback (most recent call last)",
      "\u001b[0;32m<ipython-input-13-daf88256052e>\u001b[0m in \u001b[0;36m<module>\u001b[0;34m()\u001b[0m\n\u001b[0;32m----> 1\u001b[0;31m \u001b[0mr\u001b[0m \u001b[0;34m=\u001b[0m \u001b[0mlogspace\u001b[0m\u001b[0;34m(\u001b[0m\u001b[0;34m-\u001b[0m\u001b[0;36m1\u001b[0m\u001b[0;34m,\u001b[0m\u001b[0;36m1.477\u001b[0m\u001b[0;34m,\u001b[0m\u001b[0;36m10\u001b[0m\u001b[0;34m)\u001b[0m\u001b[0;34m\u001b[0m\u001b[0m\n\u001b[0m\u001b[1;32m      2\u001b[0m \u001b[0mhernquisttest\u001b[0m \u001b[0;34m=\u001b[0m \u001b[0mTidalRadiusHernquist\u001b[0m\u001b[0;34m(\u001b[0m\u001b[0;34m'M33'\u001b[0m\u001b[0;34m,\u001b[0m\u001b[0;34m'M31'\u001b[0m\u001b[0;34m,\u001b[0m\u001b[0;34m'MW'\u001b[0m\u001b[0;34m,\u001b[0m\u001b[0;36m0\u001b[0m\u001b[0;34m,\u001b[0m\u001b[0mr\u001b[0m\u001b[0;34m)\u001b[0m\u001b[0;34m\u001b[0m\u001b[0m\n\u001b[1;32m      3\u001b[0m \u001b[0;32mprint\u001b[0m \u001b[0mhernquisttest\u001b[0m\u001b[0;34m\u001b[0m\u001b[0m\n",
      "\u001b[0;31mNameError\u001b[0m: name 'logspace' is not defined"
     ]
    }
   ],
   "source": [
    "r = logspace(-1,1.477,10)\n",
    "hernquisttest = TidalRadiusHernquist('M33','M31','MW',0,r)\n",
    "print hernquisttest"
   ]
  },
  {
   "cell_type": "code",
   "execution_count": null,
   "metadata": {
    "collapsed": true
   },
   "outputs": [],
   "source": []
  }
 ],
 "metadata": {
  "kernelspec": {
   "display_name": "Python 2",
   "language": "python",
   "name": "python2"
  },
  "language_info": {
   "codemirror_mode": {
    "name": "ipython",
    "version": 2
   },
   "file_extension": ".py",
   "mimetype": "text/x-python",
   "name": "python",
   "nbconvert_exporter": "python",
   "pygments_lexer": "ipython2",
   "version": "2.7.13"
  }
 },
 "nbformat": 4,
 "nbformat_minor": 2
}
